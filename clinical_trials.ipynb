{
  "nbformat": 4,
  "nbformat_minor": 0,
  "metadata": {
    "colab": {
      "provenance": [],
      "authorship_tag": "ABX9TyOjPX2199N6gp8oauec6nDl",
      "include_colab_link": true
    },
    "kernelspec": {
      "name": "python3",
      "display_name": "Python 3"
    },
    "language_info": {
      "name": "python"
    }
  },
  "cells": [
    {
      "cell_type": "markdown",
      "metadata": {
        "id": "view-in-github",
        "colab_type": "text"
      },
      "source": [
        "<a href=\"https://colab.research.google.com/github/stogaja/clinical-trials/blob/main/clinical_trials.ipynb\" target=\"_parent\"><img src=\"https://colab.research.google.com/assets/colab-badge.svg\" alt=\"Open In Colab\"/></a>"
      ]
    },
    {
      "cell_type": "markdown",
      "source": [
        "# **CLINICAL TRIALS**"
      ],
      "metadata": {
        "id": "ZcAk9rB0XrHA"
      }
    },
    {
      "cell_type": "markdown",
      "source": [
        "### 1. a)Defining the Question"
      ],
      "metadata": {
        "id": "EdBdsD_DXuhz"
      }
    },
    {
      "cell_type": "markdown",
      "source": [
        "> What are the key trends and patterns observed in clinical studies related to Cancer, malaria, Covid-19, HIV, Heart Conditions, and pneumonia with a specific focus on studies conducted in Kenya?\""
      ],
      "metadata": {
        "id": "J44QfrxLXxKM"
      }
    },
    {
      "cell_type": "markdown",
      "source": [
        "### b) Defining the metric of success"
      ],
      "metadata": {
        "id": "QdQCiCWgaRS5"
      }
    },
    {
      "cell_type": "markdown",
      "source": [
        "1. **Data Completeness:** Ensure that the datasets for clinical studies related to Cancer, malaria, Covid-19, HIV, Heart Conditions, and pneumonia are comprehensive and contain a substantial amount of relevant information.\n",
        "\n",
        "2. **Trend Identification:** Successfully identify and analyze trends within the clinical studies, such as the frequency of studies, common study locations, prevalent health conditions, and emerging areas of research.\n",
        "\n",
        "3. **Geographical Coverage:** Assess the extent of geographical coverage in the clinical studies, evaluating how many different states and countries are involved. This metric's success would be determined by a wide and diverse coverage.\n",
        "\n",
        "4. **Conclusions and Recommendations:** Produce meaningful and actionable conclusions and recommendations derived from the analysis, providing valuable insights for stakeholders and researchers.\n",
        "\n",
        "5. **Relevance to Leading Causes of Death:** Ensure that the selected clinical studies are highly relevant to addressing the leading causes of death in Kenya, which include Cancer, malaria, Covid-19, HIV, Heart Conditions, and pneumonia.\n",
        "\n",
        "6. **Use of Appropriate Tools and Software:** Utilize suitable software or tools proficiently for data analysis. Success in this metric would involve employing the chosen resources effectively.\n",
        "\n",
        "7. **Documentation and References:** Maintain proper documentation of the analysis process, including references to external sources and datasets. This ensures transparency and reproducibility, which are critical indicators of success in data analysis."
      ],
      "metadata": {
        "id": "8GFvFFfKjPh3"
      }
    },
    {
      "cell_type": "markdown",
      "source": [
        "### c) Understanding the context"
      ],
      "metadata": {
        "id": "Exkswcy_kugj"
      }
    },
    {
      "cell_type": "markdown",
      "source": [
        "> The context of the study revolves around the clinical trials database, accessible through https://clinicaltrials.gov/. This database encompasses a comprehensive collection of information regarding ongoing, upcoming, and past clinical research studies. These studies span across all 50 states in the United States and extend to over 200 countries globally.\n",
        "\n",
        "> For this particular study, data has been extracted from clinical trials focusing on major health conditions including Cancer, malaria, Covid-19, HIV, Heart Conditions, and pneumonia. These conditions are significant contributors to mortality rates in Kenya.\n",
        "\n",
        "> The objective of this study is to conduct a thorough analysis of the clinical study data. This includes investigating trends within the studies, examining geographical coverage, and ensuring data completeness. Additionally, the study aims to draw meaningful conclusions and recommendations from the analysis.\n",
        "\n",
        "> The success of this study will be measured by the ability to effectively analyze the data, identify trends, and produce valuable insights relevant to the leading causes of death in Kenya. Additionally, the study's documentation and transparency in the analytical process will be crucial indicators of its success."
      ],
      "metadata": {
        "id": "QYNF_bkvky3x"
      }
    },
    {
      "cell_type": "markdown",
      "source": [
        "### d) Recording the experimental design"
      ],
      "metadata": {
        "id": "yHiuOSqHlUYU"
      }
    },
    {
      "cell_type": "markdown",
      "source": [
        "1. Data sourcing/loading\n",
        "2. Data Understanding\n",
        "3. Data Relevance\n",
        "4. External Dataset Validation\n",
        "5. Data Preparation\n",
        "6. Univariate Analysis\n",
        "7. Bivariate Analysis\n",
        "8. Multivariate Analysis\n",
        "9. Implementing the solution\n",
        "10. Challenging the solution\n",
        "11. Conclusion\n",
        "12. Follow up questions"
      ],
      "metadata": {
        "id": "rgc6ED2jlYLt"
      }
    },
    {
      "cell_type": "markdown",
      "source": [
        "### e) Data relevance"
      ],
      "metadata": {
        "id": "iiZz4NaelcCa"
      }
    },
    {
      "cell_type": "markdown",
      "source": [
        "> The data provided for this study is highly relevant and valuable. It encompasses clinical trial information from a diverse range of studies, covering major health conditions such as Cancer, malaria, Covid-19, HIV, Heart Conditions, and pneumonia. These conditions represent significant health challenges globally, particularly in Kenya.\n",
        "\n",
        "> Furthermore, the data is sourced from the clinical trials database (https://clinicaltrials.gov/), which is a reputable and comprehensive platform. It aggregates studies conducted across all 50 states in the U.S. and over 200 countries worldwide. This extensive reach ensures that the data captures a broad spectrum of medical research and provides a comprehensive view of clinical studies.\n",
        "\n",
        "> In conclusion, the data's relevance is underscored by its focus on critical health issues and its extensive coverage, making it a robust foundation for conducting meaningful analysis and deriving valuable insights for the study."
      ],
      "metadata": {
        "id": "fClQhpg5le_P"
      }
    },
    {
      "cell_type": "markdown",
      "source": [
        "# 2. Data Understanding"
      ],
      "metadata": {
        "id": "5SA8NOrEaVur"
      }
    },
    {
      "cell_type": "code",
      "execution_count": 22,
      "metadata": {
        "id": "KKiXH-47oP5i"
      },
      "outputs": [],
      "source": [
        "# lets import the libraries we need\n",
        "import pandas as pd\n",
        "import numpy as np\n",
        "import matplotlib.pyplot as plt\n",
        "import seaborn as sns\n",
        "from sklearn import svm\n",
        "from sklearn.model_selection import train_test_split\n",
        "from sklearn.ensemble import RandomForestClassifier\n",
        "from sklearn.preprocessing import StandardScaler, LabelEncoder, Normalizer\n",
        "from sklearn.discriminant_analysis import LinearDiscriminantAnalysis as LDA\n",
        "from sklearn.model_selection import train_test_split\n",
        "from sklearn.metrics import r2_score, f1_score, precision_score, recall_score, classification_report, accuracy_score, confusion_matrix, ConfusionMatrixDisplay\n",
        "from sklearn.neighbors import KNeighborsClassifier\n",
        "from sklearn.naive_bayes import GaussianNB, MultinomialNB, BernoulliNB, ComplementNB, CategoricalNB\n",
        "from sklearn.model_selection import GridSearchCV, RandomizedSearchCV\n",
        "from sklearn.tree import export_graphviz\n",
        "from six import StringIO\n",
        "from IPython.display import Image\n",
        "import pydotplus\n",
        "import os\n",
        "\n",
        "# filter to ignore warnings\n",
        "import warnings\n",
        "warnings.filterwarnings('ignore')\n"
      ]
    },
    {
      "cell_type": "code",
      "source": [
        "# lets mount our google drive folder\n",
        "from google.colab import drive\n",
        "\n",
        "# lets mount Google Drive\n",
        "drive.mount('/content/drive')"
      ],
      "metadata": {
        "colab": {
          "base_uri": "https://localhost:8080/"
        },
        "id": "NnkxFN9IoMgy",
        "outputId": "b2eb1c26-a3ad-4edb-954d-491d3e8875d4"
      },
      "execution_count": 23,
      "outputs": [
        {
          "output_type": "stream",
          "name": "stdout",
          "text": [
            "Drive already mounted at /content/drive; to attempt to forcibly remount, call drive.mount(\"/content/drive\", force_remount=True).\n"
          ]
        }
      ]
    },
    {
      "cell_type": "code",
      "source": [
        "# lets create a function to read the data\n",
        "def read_data(data):\n",
        "   df = pd.read_csv(data)\n",
        "   return df"
      ],
      "metadata": {
        "id": "OphEPi3lrQKY"
      },
      "execution_count": 9,
      "outputs": []
    },
    {
      "cell_type": "code",
      "source": [
        "# lets define the directory path containing your CSV files\n",
        "directory_path = '/content/drive/MyDrive/DTE/'\n",
        "\n",
        "# lets get a list of all CSV files in the directory\n",
        "csv_files = [file for file in os.listdir(directory_path) if file.endswith('.csv')]\n",
        "\n",
        "# lets initialize an empty dictionary to store DataFrames\n",
        "data_frames = {}\n",
        "\n",
        "# lets iterate through the CSV files and read them into DataFrames\n",
        "for file_name in csv_files:\n",
        "    # here we generate a key for the DataFrame using the file name (excluding extension)\n",
        "    key = os.path.splitext(file_name)[0]\n",
        "\n",
        "    # finally read the CSV file into a DataFrame\n",
        "    file_path = os.path.join(directory_path, file_name)\n",
        "    data_frames[key] = pd.read_csv(file_path)\n",
        "\n",
        "# lets print the first few rows of each DataFrame\n",
        "#for key, df in data_frames.items():\n",
        "#    print(f\"==============DataFrame=========== '{key}':\")\n",
        "#   print(df.head())"
      ],
      "metadata": {
        "id": "JEro0rEUs5zX"
      },
      "execution_count": 24,
      "outputs": []
    },
    {
      "cell_type": "code",
      "source": [
        "# getting individual csv files from drive\n",
        "cancer = data_frames['Copy of Cancer-studies']\n",
        "cancer.head()\n",
        "cancer.shape"
      ],
      "metadata": {
        "colab": {
          "base_uri": "https://localhost:8080/"
        },
        "id": "5wdE4YHCxg7u",
        "outputId": "156f7d87-ea8f-4d5c-9009-b7b9bfc434ab"
      },
      "execution_count": 29,
      "outputs": [
        {
          "output_type": "execute_result",
          "data": {
            "text/plain": [
              "(100262, 30)"
            ]
          },
          "metadata": {},
          "execution_count": 29
        }
      ]
    },
    {
      "cell_type": "code",
      "source": [
        "# reading the data from the drive host\n",
        "cancer = read_data('/content/drive/MyDrive/DTE/Copy of Cancer-studies.csv')\n",
        "covid = read_data('/content/drive/MyDrive/DTE/Copy of Covid 19-studies.csv')\n",
        "heart = read_data('/content/drive/MyDrive/DTE/Copy of Heart.csv')\n",
        "hiv = read_data('/content/drive/MyDrive/DTE/Copy of HIV-studies.csv')\n",
        "malaria = read_data('/content/drive/MyDrive/DTE/Copy of Malaria-studies.csv')\n",
        "pneumonia = read_data('/content/drive/MyDrive/DTE/Copy of Pneumonia-studies.csv')\n"
      ],
      "metadata": {
        "id": "b_zhSqLMur8U"
      },
      "execution_count": 14,
      "outputs": []
    },
    {
      "cell_type": "code",
      "source": [
        "# lets define a list of the csv file names\n",
        "file_names = [\n",
        "   '/content/drive/MyDrive/DTE/Copy of Cancer-studies.csv',\n",
        "   '/content/drive/MyDrive/DTE/Copy of Covid 19-studies.csv',\n",
        "   '/content/drive/MyDrive/DTE/Copy of Heart.csv',\n",
        "   '/content/drive/MyDrive/DTE/Copy of HIV-studies.csv',\n",
        "   '/content/drive/MyDrive/DTE/Copy of Malaria-studies.csv',\n",
        "   '/content/drive/MyDrive/DTE/Copy of Pneumonia-studies.csv'\n",
        "]\n",
        "\n",
        "# let's create an empty dictionary to store the dataframes\n",
        "data_frames = {}\n",
        "\n",
        "# lets loop through the file names and read the data into dataframes\n",
        "for file_name in file_names:\n",
        "   name = file_name.split('.')[0] # this extracts name from file name\n",
        "   data_frames[name] = read_data(file_name)\n"
      ],
      "metadata": {
        "id": "W8vpaCnxrRJp"
      },
      "execution_count": 19,
      "outputs": []
    },
    {
      "cell_type": "code",
      "source": [
        "# lets iterate through the dictionary and print the name of each dataframe\n",
        "for name, df in data_frames.items():\n",
        "    print(f'{name}: rows = {df.shape[0]} and columns = {df.shape[1]}')"
      ],
      "metadata": {
        "colab": {
          "base_uri": "https://localhost:8080/"
        },
        "id": "SFxpCz-frSZ_",
        "outputId": "f8d666fe-9e17-46cb-b87e-517ee2c35b7b"
      },
      "execution_count": 20,
      "outputs": [
        {
          "output_type": "stream",
          "name": "stdout",
          "text": [
            "/content/drive/MyDrive/DTE/Copy of Cancer-studies: rows = 100262 and columns = 30\n",
            "/content/drive/MyDrive/DTE/Copy of Covid 19-studies: rows = 9342 and columns = 30\n",
            "/content/drive/MyDrive/DTE/Copy of Heart: rows = 32176 and columns = 30\n",
            "/content/drive/MyDrive/DTE/Copy of HIV-studies: rows = 9113 and columns = 30\n",
            "/content/drive/MyDrive/DTE/Copy of Malaria-studies: rows = 1330 and columns = 30\n",
            "/content/drive/MyDrive/DTE/Copy of Pneumonia-studies: rows = 9640 and columns = 30\n"
          ]
        }
      ]
    },
    {
      "cell_type": "code",
      "source": [
        "# lets preview the top entries of the datasets using a for loop\n",
        "for name, df in data_frames.items():\n",
        "   print(f\"Top view of {name}:\")\n",
        "   print(df.head(4))\n",
        "   print(\"=\"*30) # separator for clarity"
      ],
      "metadata": {
        "colab": {
          "base_uri": "https://localhost:8080/",
          "height": 246
        },
        "id": "4x9x6U1KrS4I",
        "outputId": "9e84d908-7651-4634-d4ad-7f7a7395cf0b"
      },
      "execution_count": null,
      "outputs": [
        {
          "output_type": "error",
          "ename": "NameError",
          "evalue": "ignored",
          "traceback": [
            "\u001b[0;31m---------------------------------------------------------------------------\u001b[0m",
            "\u001b[0;31mNameError\u001b[0m                                 Traceback (most recent call last)",
            "\u001b[0;32m<ipython-input-1-b5f3e4f5c24c>\u001b[0m in \u001b[0;36m<cell line: 2>\u001b[0;34m()\u001b[0m\n\u001b[1;32m      1\u001b[0m \u001b[0;31m# lets preview the top entries of the datasets using a for loop\u001b[0m\u001b[0;34m\u001b[0m\u001b[0;34m\u001b[0m\u001b[0m\n\u001b[0;32m----> 2\u001b[0;31m \u001b[0;32mfor\u001b[0m \u001b[0mname\u001b[0m\u001b[0;34m,\u001b[0m \u001b[0mdf\u001b[0m \u001b[0;32min\u001b[0m \u001b[0mdata_frames\u001b[0m\u001b[0;34m.\u001b[0m\u001b[0mitems\u001b[0m\u001b[0;34m(\u001b[0m\u001b[0;34m)\u001b[0m\u001b[0;34m:\u001b[0m\u001b[0;34m\u001b[0m\u001b[0;34m\u001b[0m\u001b[0m\n\u001b[0m\u001b[1;32m      3\u001b[0m    \u001b[0mprint\u001b[0m\u001b[0;34m(\u001b[0m\u001b[0;34mf\"Top view of {name}:\"\u001b[0m\u001b[0;34m)\u001b[0m\u001b[0;34m\u001b[0m\u001b[0;34m\u001b[0m\u001b[0m\n\u001b[1;32m      4\u001b[0m    \u001b[0mprint\u001b[0m\u001b[0;34m(\u001b[0m\u001b[0mdf\u001b[0m\u001b[0;34m.\u001b[0m\u001b[0mhead\u001b[0m\u001b[0;34m(\u001b[0m\u001b[0;36m4\u001b[0m\u001b[0;34m)\u001b[0m\u001b[0;34m)\u001b[0m\u001b[0;34m\u001b[0m\u001b[0;34m\u001b[0m\u001b[0m\n\u001b[1;32m      5\u001b[0m    \u001b[0mprint\u001b[0m\u001b[0;34m(\u001b[0m\u001b[0;34m\"=\"\u001b[0m\u001b[0;34m*\u001b[0m\u001b[0;36m30\u001b[0m\u001b[0;34m)\u001b[0m \u001b[0;31m# separator for clarity\u001b[0m\u001b[0;34m\u001b[0m\u001b[0;34m\u001b[0m\u001b[0m\n",
            "\u001b[0;31mNameError\u001b[0m: name 'data_frames' is not defined"
          ]
        }
      ]
    }
  ]
}